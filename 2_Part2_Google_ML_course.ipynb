{
  "nbformat": 4,
  "nbformat_minor": 0,
  "metadata": {
    "colab": {
      "provenance": []
    },
    "kernelspec": {
      "name": "python3",
      "display_name": "Python 3"
    },
    "language_info": {
      "name": "python"
    }
  },
  "cells": [
    {
      "cell_type": "code",
      "execution_count": null,
      "metadata": {
        "id": "VO_UPtTFF60_"
      },
      "outputs": [],
      "source": [
        "# In this part aim is to learn how to see and recognize objects."
      ]
    },
    {
      "cell_type": "markdown",
      "source": [
        "# Imports"
      ],
      "metadata": {
        "id": "H0KvWD7rNT8m"
      }
    },
    {
      "cell_type": "code",
      "source": [
        "import tensorflow as tf\n",
        "from tensorflow import keras"
      ],
      "metadata": {
        "id": "8LeAT2eeL3BR"
      },
      "execution_count": 2,
      "outputs": []
    },
    {
      "cell_type": "markdown",
      "source": [
        "# Load data"
      ],
      "metadata": {
        "id": "E3UMDVbzNYzF"
      }
    },
    {
      "cell_type": "code",
      "source": [
        "fashion_mnist = keras.datasets.fashion_mnist\n",
        "(train_images, train_labels), (test_images, test_lables) = fashion_mnist.load_data() # label indicates class of type of clothing"
      ],
      "metadata": {
        "colab": {
          "base_uri": "https://localhost:8080/"
        },
        "id": "s4YKUcNkMOQd",
        "outputId": "311cab35-3ef4-4b79-f903-d6877a8f64e2"
      },
      "execution_count": 3,
      "outputs": [
        {
          "output_type": "stream",
          "name": "stdout",
          "text": [
            "Downloading data from https://storage.googleapis.com/tensorflow/tf-keras-datasets/train-labels-idx1-ubyte.gz\n",
            "29515/29515 [==============================] - 0s 0us/step\n",
            "Downloading data from https://storage.googleapis.com/tensorflow/tf-keras-datasets/train-images-idx3-ubyte.gz\n",
            "26421880/26421880 [==============================] - 0s 0us/step\n",
            "Downloading data from https://storage.googleapis.com/tensorflow/tf-keras-datasets/t10k-labels-idx1-ubyte.gz\n",
            "5148/5148 [==============================] - 0s 0us/step\n",
            "Downloading data from https://storage.googleapis.com/tensorflow/tf-keras-datasets/t10k-images-idx3-ubyte.gz\n",
            "4422102/4422102 [==============================] - 0s 0us/step\n"
          ]
        }
      ]
    },
    {
      "cell_type": "markdown",
      "source": [
        "## why we didn't used text for labels?\n",
        "computes are good at numbers and also if we use let's say english to represent a clothing e.g \"shoes\" this world is in english so we have created a bias what about chinese, french, spanish so numbers are better to use for labels."
      ],
      "metadata": {
        "id": "7nbojmZ9M1mA"
      }
    },
    {
      "cell_type": "code",
      "source": [
        "# creating model\n",
        "# model takes 28 * 28 set of piexels and outputs 1 of 10 values\n",
        "model = keras.Sequential([\n",
        "    keras.layers.Flatten(input_shape=(28,28)), # as we have images in 28 * 28 pixels\n",
        "    keras.layers.Dense(128, activation=tf.nn.relu),\n",
        "    keras.layers.Dense(10, activation=tf.nn.softmax) # 10 is number of different items of clothing\n",
        "])"
      ],
      "metadata": {
        "id": "InainIuUM7f_"
      },
      "execution_count": 4,
      "outputs": []
    },
    {
      "cell_type": "markdown",
      "source": [
        "In this specific code, the Sequential model is defined using Keras, which is a high-level neural networks API. The model consists of a sequence of layers that are defined in the list passed to the Sequential constructor.\n",
        "\n",
        "Let's break down the code snippet layer by layer:\n",
        "\n",
        "  `tf.keras.layers.Flatten()`: This layer is used to flatten the input data, which is typically used when working with image data. It transforms the input into a 1-dimensional array.\n",
        "\n",
        "  `tf.keras.layers.Dense(128, activation=tf.nn.relu)`: This is a Dense layer with 128 units. Each unit in this layer is connected to every neuron in the previous layer. The activation function used for these neurons is tf.nn.relu, which stands for Rectified Linear Unit.\n",
        "\n",
        "`  tf.keras.layers.Dense(10, activation=tf.nn.softmax): `\n",
        "  This is another Dense layer with 10 units. Similarly, each unit in this layer is connected to every neuron in the previous layer. The activation function used here is tf.nn.softmax, which is commonly used for multi-class classification tasks. It calculates the probabilities of each class."
      ],
      "metadata": {
        "id": "_Ak1xWYaUuBL"
      }
    },
    {
      "cell_type": "code",
      "source": [
        "model.compile(optimizer = tf.keras.optimizers.Adam(),\n",
        "              loss = 'sparse_categorical_crossentropy',\n",
        "              metrics=['accuracy'])"
      ],
      "metadata": {
        "id": "V4JQDzv2WA3M"
      },
      "execution_count": 6,
      "outputs": []
    },
    {
      "cell_type": "code",
      "source": [
        "# loss function measure how good or bad resuts are  and optimizer will genrate new paramters for functions\n",
        "# to see if it can do betterr\n",
        "# relu is activation function, it returns value if greater than zero else returns 0\n",
        "# softmax gives biggest number in a set (softmax sets largest probaility value to 1 and all others 0 )\n",
        "# which makes searching easier"
      ],
      "metadata": {
        "id": "JH1KQHACWPkh"
      },
      "execution_count": null,
      "outputs": []
    },
    {
      "cell_type": "markdown",
      "source": [
        "# Training"
      ],
      "metadata": {
        "id": "l7KskTp5XhS0"
      }
    },
    {
      "cell_type": "code",
      "source": [
        "model.fit(train_images, train_labels, epochs=5)"
      ],
      "metadata": {
        "colab": {
          "base_uri": "https://localhost:8080/"
        },
        "id": "Gh7eTrUpW9Da",
        "outputId": "e88400ae-0b4c-4387-b38d-8591b18ee629"
      },
      "execution_count": 9,
      "outputs": [
        {
          "output_type": "stream",
          "name": "stdout",
          "text": [
            "Epoch 1/5\n",
            "1875/1875 [==============================] - 4s 2ms/step - loss: 3.2353 - accuracy: 0.6790\n",
            "Epoch 2/5\n",
            "1875/1875 [==============================] - 4s 2ms/step - loss: 0.7052 - accuracy: 0.7190\n",
            "Epoch 3/5\n",
            "1875/1875 [==============================] - 4s 2ms/step - loss: 0.6171 - accuracy: 0.7604\n",
            "Epoch 4/5\n",
            "1875/1875 [==============================] - 4s 2ms/step - loss: 0.5589 - accuracy: 0.8006\n",
            "Epoch 5/5\n",
            "1875/1875 [==============================] - 3s 2ms/step - loss: 0.5204 - accuracy: 0.8214\n"
          ]
        },
        {
          "output_type": "execute_result",
          "data": {
            "text/plain": [
              "<keras.callbacks.History at 0x7fb187dd1ae0>"
            ]
          },
          "metadata": {},
          "execution_count": 9
        }
      ]
    },
    {
      "cell_type": "code",
      "source": [
        "test_loss, test_acc = model.evaluate(test_images, test_lables)\n"
      ],
      "metadata": {
        "colab": {
          "base_uri": "https://localhost:8080/"
        },
        "id": "23xhnYSxXnAI",
        "outputId": "067711b6-deb1-4bc3-ff46-1d9403862a10"
      },
      "execution_count": 10,
      "outputs": [
        {
          "output_type": "stream",
          "name": "stdout",
          "text": [
            "313/313 [==============================] - 0s 1ms/step - loss: 0.5661 - accuracy: 0.8063\n"
          ]
        }
      ]
    },
    {
      "cell_type": "code",
      "source": [
        "# predictions = model.predict(my_images)\n",
        "# you can provide any image here."
      ],
      "metadata": {
        "id": "WU58jrFLYQQ8"
      },
      "execution_count": 12,
      "outputs": []
    },
    {
      "cell_type": "code",
      "source": [],
      "metadata": {
        "id": "SegbTRYbYXrX"
      },
      "execution_count": null,
      "outputs": []
    }
  ]
}